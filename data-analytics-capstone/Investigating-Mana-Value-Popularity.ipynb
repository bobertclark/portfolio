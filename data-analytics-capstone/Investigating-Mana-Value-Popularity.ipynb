{
 "cells": [
  {
   "cell_type": "markdown",
   "metadata": {},
   "source": [
    "# **Investigating Mana Value Popularity**"
   ]
  },
  {
   "cell_type": "code",
   "execution_count": 1,
   "metadata": {},
   "outputs": [],
   "source": [
    "import pandas as pd\n",
    "pd.options.mode.chained_assignment = None\n",
    "import numpy as np\n",
    "from tabulate import tabulate\n",
    "\n",
    "# Read oracle-cards json to pandas dataframe\n",
    "# oracle-cards json was downloaded here: https://scryfall.com/docs/api/bulk-data\n",
    "oracle_cards = pd.read_json(\"oracle-cards-20241007090211.json\")"
   ]
  },
  {
   "cell_type": "code",
   "execution_count": 2,
   "metadata": {},
   "outputs": [
    {
     "name": "stdout",
     "output_type": "stream",
     "text": [
      "33220\n"
     ]
    },
    {
     "data": {
      "text/html": [
       "<div>\n",
       "<style scoped>\n",
       "    .dataframe tbody tr th:only-of-type {\n",
       "        vertical-align: middle;\n",
       "    }\n",
       "\n",
       "    .dataframe tbody tr th {\n",
       "        vertical-align: top;\n",
       "    }\n",
       "\n",
       "    .dataframe thead th {\n",
       "        text-align: right;\n",
       "    }\n",
       "</style>\n",
       "<table border=\"1\" class=\"dataframe\">\n",
       "  <thead>\n",
       "    <tr style=\"text-align: right;\">\n",
       "      <th></th>\n",
       "      <th>object</th>\n",
       "      <th>id</th>\n",
       "      <th>oracle_id</th>\n",
       "      <th>multiverse_ids</th>\n",
       "      <th>mtgo_id</th>\n",
       "      <th>mtgo_foil_id</th>\n",
       "      <th>tcgplayer_id</th>\n",
       "      <th>cardmarket_id</th>\n",
       "      <th>name</th>\n",
       "      <th>lang</th>\n",
       "      <th>...</th>\n",
       "      <th>watermark</th>\n",
       "      <th>card_faces</th>\n",
       "      <th>tcgplayer_etched_id</th>\n",
       "      <th>loyalty</th>\n",
       "      <th>life_modifier</th>\n",
       "      <th>hand_modifier</th>\n",
       "      <th>attraction_lights</th>\n",
       "      <th>color_indicator</th>\n",
       "      <th>content_warning</th>\n",
       "      <th>defense</th>\n",
       "    </tr>\n",
       "  </thead>\n",
       "  <tbody>\n",
       "    <tr>\n",
       "      <th>0</th>\n",
       "      <td>card</td>\n",
       "      <td>86bf43b1-8d4e-4759-bb2d-0b2e03ba7012</td>\n",
       "      <td>0004ebd0-dfd6-4276-b4a6-de0003e94237</td>\n",
       "      <td>[15862]</td>\n",
       "      <td>15870.0</td>\n",
       "      <td>15871.0</td>\n",
       "      <td>3094.0</td>\n",
       "      <td>3081.0</td>\n",
       "      <td>Static Orb</td>\n",
       "      <td>en</td>\n",
       "      <td>...</td>\n",
       "      <td>NaN</td>\n",
       "      <td>NaN</td>\n",
       "      <td>NaN</td>\n",
       "      <td>NaN</td>\n",
       "      <td>NaN</td>\n",
       "      <td>NaN</td>\n",
       "      <td>NaN</td>\n",
       "      <td>NaN</td>\n",
       "      <td>NaN</td>\n",
       "      <td>NaN</td>\n",
       "    </tr>\n",
       "    <tr>\n",
       "      <th>1</th>\n",
       "      <td>card</td>\n",
       "      <td>7050735c-b232-47a6-a342-01795bfd0d46</td>\n",
       "      <td>0006faf6-7a61-426c-9034-579f2cfcfa83</td>\n",
       "      <td>[370780]</td>\n",
       "      <td>49283.0</td>\n",
       "      <td>49284.0</td>\n",
       "      <td>69965.0</td>\n",
       "      <td>262945.0</td>\n",
       "      <td>Sensory Deprivation</td>\n",
       "      <td>en</td>\n",
       "      <td>...</td>\n",
       "      <td>NaN</td>\n",
       "      <td>NaN</td>\n",
       "      <td>NaN</td>\n",
       "      <td>NaN</td>\n",
       "      <td>NaN</td>\n",
       "      <td>NaN</td>\n",
       "      <td>NaN</td>\n",
       "      <td>NaN</td>\n",
       "      <td>NaN</td>\n",
       "      <td>NaN</td>\n",
       "    </tr>\n",
       "    <tr>\n",
       "      <th>2</th>\n",
       "      <td>card</td>\n",
       "      <td>e718b21b-46d1-4844-985c-52745657b1ac</td>\n",
       "      <td>0007c283-5b7a-4c00-9ca1-b455c8dff8c3</td>\n",
       "      <td>[470580]</td>\n",
       "      <td>77122.0</td>\n",
       "      <td>NaN</td>\n",
       "      <td>196536.0</td>\n",
       "      <td>391692.0</td>\n",
       "      <td>Road of Return</td>\n",
       "      <td>en</td>\n",
       "      <td>...</td>\n",
       "      <td>NaN</td>\n",
       "      <td>NaN</td>\n",
       "      <td>NaN</td>\n",
       "      <td>NaN</td>\n",
       "      <td>NaN</td>\n",
       "      <td>NaN</td>\n",
       "      <td>NaN</td>\n",
       "      <td>NaN</td>\n",
       "      <td>NaN</td>\n",
       "      <td>NaN</td>\n",
       "    </tr>\n",
       "    <tr>\n",
       "      <th>3</th>\n",
       "      <td>card</td>\n",
       "      <td>036ef8c9-72ac-46ce-af07-83b79d736538</td>\n",
       "      <td>000d5588-5a4c-434e-988d-396632ade42c</td>\n",
       "      <td>[83282]</td>\n",
       "      <td>22609.0</td>\n",
       "      <td>22610.0</td>\n",
       "      <td>12835.0</td>\n",
       "      <td>12551.0</td>\n",
       "      <td>Storm Crow</td>\n",
       "      <td>en</td>\n",
       "      <td>...</td>\n",
       "      <td>NaN</td>\n",
       "      <td>NaN</td>\n",
       "      <td>NaN</td>\n",
       "      <td>NaN</td>\n",
       "      <td>NaN</td>\n",
       "      <td>NaN</td>\n",
       "      <td>NaN</td>\n",
       "      <td>NaN</td>\n",
       "      <td>NaN</td>\n",
       "      <td>NaN</td>\n",
       "    </tr>\n",
       "    <tr>\n",
       "      <th>4</th>\n",
       "      <td>card</td>\n",
       "      <td>6010d06b-33b6-4631-9b3f-192d8c6b96e7</td>\n",
       "      <td>000d8291-d6a8-436e-9e17-7531333686a8</td>\n",
       "      <td>[]</td>\n",
       "      <td>NaN</td>\n",
       "      <td>NaN</td>\n",
       "      <td>NaN</td>\n",
       "      <td>NaN</td>\n",
       "      <td>Snarlfang Vermin</td>\n",
       "      <td>en</td>\n",
       "      <td>...</td>\n",
       "      <td>NaN</td>\n",
       "      <td>NaN</td>\n",
       "      <td>NaN</td>\n",
       "      <td>NaN</td>\n",
       "      <td>NaN</td>\n",
       "      <td>NaN</td>\n",
       "      <td>NaN</td>\n",
       "      <td>NaN</td>\n",
       "      <td>NaN</td>\n",
       "      <td>NaN</td>\n",
       "    </tr>\n",
       "  </tbody>\n",
       "</table>\n",
       "<p>5 rows × 81 columns</p>\n",
       "</div>"
      ],
      "text/plain": [
       "  object                                    id  \\\n",
       "0   card  86bf43b1-8d4e-4759-bb2d-0b2e03ba7012   \n",
       "1   card  7050735c-b232-47a6-a342-01795bfd0d46   \n",
       "2   card  e718b21b-46d1-4844-985c-52745657b1ac   \n",
       "3   card  036ef8c9-72ac-46ce-af07-83b79d736538   \n",
       "4   card  6010d06b-33b6-4631-9b3f-192d8c6b96e7   \n",
       "\n",
       "                              oracle_id multiverse_ids  mtgo_id  mtgo_foil_id  \\\n",
       "0  0004ebd0-dfd6-4276-b4a6-de0003e94237        [15862]  15870.0       15871.0   \n",
       "1  0006faf6-7a61-426c-9034-579f2cfcfa83       [370780]  49283.0       49284.0   \n",
       "2  0007c283-5b7a-4c00-9ca1-b455c8dff8c3       [470580]  77122.0           NaN   \n",
       "3  000d5588-5a4c-434e-988d-396632ade42c        [83282]  22609.0       22610.0   \n",
       "4  000d8291-d6a8-436e-9e17-7531333686a8             []      NaN           NaN   \n",
       "\n",
       "   tcgplayer_id  cardmarket_id                 name lang  ... watermark  \\\n",
       "0        3094.0         3081.0           Static Orb   en  ...       NaN   \n",
       "1       69965.0       262945.0  Sensory Deprivation   en  ...       NaN   \n",
       "2      196536.0       391692.0       Road of Return   en  ...       NaN   \n",
       "3       12835.0        12551.0           Storm Crow   en  ...       NaN   \n",
       "4           NaN            NaN     Snarlfang Vermin   en  ...       NaN   \n",
       "\n",
       "  card_faces tcgplayer_etched_id loyalty  life_modifier hand_modifier  \\\n",
       "0        NaN                 NaN     NaN            NaN           NaN   \n",
       "1        NaN                 NaN     NaN            NaN           NaN   \n",
       "2        NaN                 NaN     NaN            NaN           NaN   \n",
       "3        NaN                 NaN     NaN            NaN           NaN   \n",
       "4        NaN                 NaN     NaN            NaN           NaN   \n",
       "\n",
       "  attraction_lights color_indicator  content_warning defense  \n",
       "0               NaN             NaN              NaN     NaN  \n",
       "1               NaN             NaN              NaN     NaN  \n",
       "2               NaN             NaN              NaN     NaN  \n",
       "3               NaN             NaN              NaN     NaN  \n",
       "4               NaN             NaN              NaN     NaN  \n",
       "\n",
       "[5 rows x 81 columns]"
      ]
     },
     "execution_count": 2,
     "metadata": {},
     "output_type": "execute_result"
    }
   ],
   "source": [
    "# Display dataframe info\n",
    "print(len(oracle_cards))\n",
    "oracle_cards.head()"
   ]
  },
  {
   "cell_type": "code",
   "execution_count": 3,
   "metadata": {},
   "outputs": [],
   "source": [
    "cards = []\n",
    "\n",
    "# Filter cards into a list by certain criteria\n",
    "for i, card in oracle_cards.iterrows():\n",
    "    if (\n",
    "        # Only cards legal in modern\n",
    "        card[\"legalities\"][\"modern\"] == \"legal\"\n",
    "        # Only cards in english\n",
    "        and card[\"lang\"] == \"en\"\n",
    "        # Only cards with a price to use\n",
    "        and card[\"prices\"][\"usd\"] != None\n",
    "        # Only cards with a single face/single mana value\n",
    "        and card[\"layout\"] not in ['prototype', 'transform', 'modal_dfc', 'split', 'adventure']\n",
    "        # Only cards without the rarity \"special\"\n",
    "        and card[\"rarity\"] != \"special\"\n",
    "        # Only cards with a mana value less than 9\n",
    "        and card[\"cmc\"] <=8\n",
    "        ):\n",
    "        \n",
    "        cards.append(card)"
   ]
  },
  {
   "cell_type": "code",
   "execution_count": 4,
   "metadata": {},
   "outputs": [
    {
     "name": "stdout",
     "output_type": "stream",
     "text": [
      "18641\n"
     ]
    }
   ],
   "source": [
    "# Print number of cards left\n",
    "print(len(cards))"
   ]
  },
  {
   "cell_type": "code",
   "execution_count": 5,
   "metadata": {},
   "outputs": [
    {
     "name": "stdout",
     "output_type": "stream",
     "text": [
      "18641\n"
     ]
    }
   ],
   "source": [
    "clean_cards = []\n",
    "clean_dict = {}\n",
    "\n",
    "# Clean cards by extracting only the fields we need\n",
    "for card in cards:\n",
    "    # Card id\n",
    "    clean_dict[\"id\"] = card[\"id\"]\n",
    "    # Card name\n",
    "    clean_dict[\"name\"] = card[\"name\"]\n",
    "    # Card mana value\n",
    "    clean_dict[\"mana_value\"] = card[\"cmc\"]\n",
    "    # Card rarity\n",
    "    clean_dict[\"rarity\"] = card[\"rarity\"]\n",
    "    # Card price (usd)\n",
    "    clean_dict[\"usd\"] = float(card[\"prices\"][\"usd\"])\n",
    "        \n",
    "    clean_cards.append(clean_dict)\n",
    "    clean_dict = {}\n",
    "\n",
    "print(len(clean_cards))"
   ]
  },
  {
   "cell_type": "code",
   "execution_count": 6,
   "metadata": {},
   "outputs": [],
   "source": [
    "# Save cleaned cards to a pandas dataframe\n",
    "cards_df = pd.DataFrame(clean_cards)"
   ]
  },
  {
   "cell_type": "code",
   "execution_count": 7,
   "metadata": {},
   "outputs": [
    {
     "data": {
      "text/html": [
       "<div>\n",
       "<style scoped>\n",
       "    .dataframe tbody tr th:only-of-type {\n",
       "        vertical-align: middle;\n",
       "    }\n",
       "\n",
       "    .dataframe tbody tr th {\n",
       "        vertical-align: top;\n",
       "    }\n",
       "\n",
       "    .dataframe thead th {\n",
       "        text-align: right;\n",
       "    }\n",
       "</style>\n",
       "<table border=\"1\" class=\"dataframe\">\n",
       "  <thead>\n",
       "    <tr style=\"text-align: right;\">\n",
       "      <th></th>\n",
       "      <th>id</th>\n",
       "      <th>name</th>\n",
       "      <th>mana_value</th>\n",
       "      <th>rarity</th>\n",
       "      <th>usd</th>\n",
       "    </tr>\n",
       "  </thead>\n",
       "  <tbody>\n",
       "    <tr>\n",
       "      <th>0</th>\n",
       "      <td>7050735c-b232-47a6-a342-01795bfd0d46</td>\n",
       "      <td>Sensory Deprivation</td>\n",
       "      <td>1.0</td>\n",
       "      <td>common</td>\n",
       "      <td>0.02</td>\n",
       "    </tr>\n",
       "    <tr>\n",
       "      <th>1</th>\n",
       "      <td>036ef8c9-72ac-46ce-af07-83b79d736538</td>\n",
       "      <td>Storm Crow</td>\n",
       "      <td>2.0</td>\n",
       "      <td>common</td>\n",
       "      <td>0.21</td>\n",
       "    </tr>\n",
       "    <tr>\n",
       "      <th>2</th>\n",
       "      <td>e0f83824-43c6-4101-88fd-9109958b23e2</td>\n",
       "      <td>Ravnica at War</td>\n",
       "      <td>4.0</td>\n",
       "      <td>rare</td>\n",
       "      <td>0.38</td>\n",
       "    </tr>\n",
       "    <tr>\n",
       "      <th>3</th>\n",
       "      <td>2cfd365e-34d1-4224-b925-119000311934</td>\n",
       "      <td>Greta, Sweettooth Scourge</td>\n",
       "      <td>3.0</td>\n",
       "      <td>uncommon</td>\n",
       "      <td>0.13</td>\n",
       "    </tr>\n",
       "    <tr>\n",
       "      <th>4</th>\n",
       "      <td>0072bbbf-a695-47dd-9615-db2659f357db</td>\n",
       "      <td>Pteramander</td>\n",
       "      <td>1.0</td>\n",
       "      <td>uncommon</td>\n",
       "      <td>0.03</td>\n",
       "    </tr>\n",
       "  </tbody>\n",
       "</table>\n",
       "</div>"
      ],
      "text/plain": [
       "                                     id                       name  \\\n",
       "0  7050735c-b232-47a6-a342-01795bfd0d46        Sensory Deprivation   \n",
       "1  036ef8c9-72ac-46ce-af07-83b79d736538                 Storm Crow   \n",
       "2  e0f83824-43c6-4101-88fd-9109958b23e2             Ravnica at War   \n",
       "3  2cfd365e-34d1-4224-b925-119000311934  Greta, Sweettooth Scourge   \n",
       "4  0072bbbf-a695-47dd-9615-db2659f357db                Pteramander   \n",
       "\n",
       "   mana_value    rarity   usd  \n",
       "0         1.0    common  0.02  \n",
       "1         2.0    common  0.21  \n",
       "2         4.0      rare  0.38  \n",
       "3         3.0  uncommon  0.13  \n",
       "4         1.0  uncommon  0.03  "
      ]
     },
     "execution_count": 7,
     "metadata": {},
     "output_type": "execute_result"
    }
   ],
   "source": [
    "# Display cleaned table\n",
    "cards_df.head()"
   ]
  },
  {
   "cell_type": "code",
   "execution_count": 8,
   "metadata": {},
   "outputs": [],
   "source": [
    "# Split table on the four rarities\n",
    "common_cards = cards_df[cards_df[\"rarity\"] == \"common\"]\n",
    "uncommon_cards = cards_df[cards_df[\"rarity\"] == \"uncommon\"]\n",
    "rare_cards = cards_df[cards_df[\"rarity\"] == \"rare\"]\n",
    "mythic_cards = cards_df[cards_df[\"rarity\"] == \"mythic\"]"
   ]
  },
  {
   "cell_type": "code",
   "execution_count": 9,
   "metadata": {},
   "outputs": [
    {
     "name": "stdout",
     "output_type": "stream",
     "text": [
      "Average Common Price 0.11568162810147757\n",
      "+--------------+-----------+\n",
      "|   mana_value |       usd |\n",
      "|--------------+-----------|\n",
      "|            0 | 0.183065  |\n",
      "|            1 | 0.186915  |\n",
      "|            2 | 0.136499  |\n",
      "|            3 | 0.0933106 |\n",
      "|            4 | 0.0723656 |\n",
      "|            5 | 0.0730454 |\n",
      "|            6 | 0.0606182 |\n",
      "|            7 | 0.103692  |\n",
      "|            8 | 0.065     |\n",
      "+--------------+-----------+\n"
     ]
    },
    {
     "data": {
      "image/png": "[encoded data removed]",
      "text/plain": [
       "<Figure size 640x480 with 1 Axes>"
      ]
     },
     "metadata": {},
     "output_type": "display_data"
    }
   ],
   "source": [
    "import matplotlib.pyplot as plt\n",
    "\n",
    "# Calculate average common card price\n",
    "average_common_price = common_cards[\"usd\"].mean()\n",
    "print(\"Average Common Price\", average_common_price)\n",
    "\n",
    "# Calculate average common card price per mana value\n",
    "average_common_price_per_mana_value = common_cards.groupby(\"mana_value\", as_index=False)[\"usd\"].mean()\n",
    "print(tabulate(average_common_price_per_mana_value, headers=\"keys\", tablefmt=\"psql\", showindex=False))\n",
    "\n",
    "# Display data with thresholded bar chart\n",
    "fig, ax = plt.subplots()\n",
    "ax.bar(average_common_price_per_mana_value[\"mana_value\"], average_common_price_per_mana_value[\"usd\"], color=\"black\")\n",
    "\n",
    "# Threshold line at average common card price\n",
    "ax.plot([-0.5, 8.5], [average_common_price, average_common_price], \"--\", color=\"silver\")\n",
    "\n",
    "# Set x and y axes ranges\n",
    "ax.set_yticks(np.arange(0.0, 0.225, 0.025))\n",
    "ax.set_xticks(range(9))\n",
    "\n",
    "# Set table labels\n",
    "ax.set_title(\"Average Card Price per Mana Value (Common)\")\n",
    "ax.set_xlabel(\"Mana Value\")\n",
    "ax.set_ylabel(\"Card Price (usd)\")\n",
    "\n",
    "plt.show()"
   ]
  },
  {
   "cell_type": "code",
   "execution_count": 10,
   "metadata": {},
   "outputs": [
    {
     "name": "stdout",
     "output_type": "stream",
     "text": [
      "Correlation coefficient: -0.09788\n",
      "P-value: 0.00000\n"
     ]
    }
   ],
   "source": [
    "import scipy.stats as stats\n",
    "\n",
    "# Calculate correlation coefficient between mana value and card price for common cards\n",
    "common_correlation_coefficient, common_p_value = stats.pearsonr(common_cards[\"usd\"], common_cards[\"mana_value\"])\n",
    "\n",
    "# Display results\n",
    "print(f\"Correlation coefficient: {common_correlation_coefficient:.5f}\")\n",
    "print(f\"P-value: {common_p_value:.5f}\")"
   ]
  },
  {
   "cell_type": "code",
   "execution_count": 11,
   "metadata": {},
   "outputs": [
    {
     "name": "stdout",
     "output_type": "stream",
     "text": [
      "Average Uncommon Price 0.2889452194624022\n",
      "+--------------+----------+\n",
      "|   mana_value |      usd |\n",
      "|--------------+----------|\n",
      "|            0 | 0.434754 |\n",
      "|            1 | 0.435756 |\n",
      "|            2 | 0.357613 |\n",
      "|            3 | 0.296503 |\n",
      "|            4 | 0.212264 |\n",
      "|            5 | 0.156526 |\n",
      "|            6 | 0.181646 |\n",
      "|            7 | 0.137453 |\n",
      "|            8 | 0.157917 |\n",
      "+--------------+----------+\n"
     ]
    },
    {
     "data": {
      "image/png": "[encoded data removed]",
      "text/plain": [
       "<Figure size 640x480 with 1 Axes>"
      ]
     },
     "metadata": {},
     "output_type": "display_data"
    }
   ],
   "source": [
    "# Calculate average uncommon card price\n",
    "average_uncommon_price = uncommon_cards[\"usd\"].mean()\n",
    "print(\"Average Uncommon Price\", average_uncommon_price)\n",
    "\n",
    "# Calculate average uncommon card price per mana value\n",
    "average_uncommon_price_per_mana_value = uncommon_cards.groupby(\"mana_value\", as_index=False)[\"usd\"].mean()\n",
    "print(tabulate(average_uncommon_price_per_mana_value, headers=\"keys\", tablefmt=\"psql\", showindex=False))\n",
    "\n",
    "# Display data with thresholded bar chart\n",
    "fig, ax = plt.subplots()\n",
    "ax.bar(average_uncommon_price_per_mana_value[\"mana_value\"], average_uncommon_price_per_mana_value[\"usd\"], color=\"silver\")\n",
    "\n",
    "# Threshold line at average uncommon card price\n",
    "ax.plot([-0.5, 8.5], [average_uncommon_price, average_uncommon_price], \"k--\")\n",
    "\n",
    "# Set x and y axes ranges\n",
    "ax.set_yticks(np.arange(0.0, 0.5, 0.05))\n",
    "ax.set_xticks(range(9))\n",
    "\n",
    "# Set table labels\n",
    "ax.set_title(\"Average Card Price per Mana Value (Uncommon)\")\n",
    "ax.set_xlabel(\"Mana Value\")\n",
    "ax.set_ylabel(\"Card Price (usd)\")\n",
    "\n",
    "plt.show()"
   ]
  },
  {
   "cell_type": "code",
   "execution_count": 12,
   "metadata": {},
   "outputs": [
    {
     "name": "stdout",
     "output_type": "stream",
     "text": [
      "Correlation coefficient: -0.09955\n",
      "P-value: 0.00000\n"
     ]
    }
   ],
   "source": [
    "# Calculate correlation coefficient between mana value and card price for uncommon cards\n",
    "uncommon_correlation_coefficient, uncommon_p_value = stats.pearsonr(uncommon_cards[\"usd\"], uncommon_cards[\"mana_value\"])\n",
    "\n",
    "# Dispaly results\n",
    "print(f\"Correlation coefficient: {uncommon_correlation_coefficient:.5f}\")\n",
    "print(f\"P-value: {uncommon_p_value:.5f}\")"
   ]
  },
  {
   "cell_type": "code",
   "execution_count": 13,
   "metadata": {},
   "outputs": [
    {
     "name": "stdout",
     "output_type": "stream",
     "text": [
      "Average Rare Price 1.7073843145774492\n",
      "+--------------+---------+\n",
      "|   mana_value |     usd |\n",
      "|--------------+---------|\n",
      "|            0 | 4.97772 |\n",
      "|            1 | 2.26574 |\n",
      "|            2 | 1.80607 |\n",
      "|            3 | 1.38099 |\n",
      "|            4 | 1.29734 |\n",
      "|            5 | 1.2282  |\n",
      "|            6 | 1.27117 |\n",
      "|            7 | 1.3002  |\n",
      "|            8 | 1.18096 |\n",
      "+--------------+---------+\n"
     ]
    },
    {
     "data": {
      "image/png": "[encoded data removed]",
      "text/plain": [
       "<Figure size 640x480 with 1 Axes>"
      ]
     },
     "metadata": {},
     "output_type": "display_data"
    }
   ],
   "source": [
    "# Calculate average rare card price\n",
    "average_rare_price = rare_cards[\"usd\"].mean()\n",
    "print(\"Average Rare Price\", average_rare_price)\n",
    "\n",
    "# Calculate average rare card price per mana value\n",
    "average_rare_price_per_mana_value = rare_cards.groupby(\"mana_value\", as_index=False)[\"usd\"].mean()\n",
    "print(tabulate(average_rare_price_per_mana_value, headers=\"keys\", tablefmt=\"psql\", showindex=False))\n",
    "\n",
    "# Display data with thresholded bar chart\n",
    "fig, ax = plt.subplots()\n",
    "ax.bar(average_rare_price_per_mana_value[\"mana_value\"], average_rare_price_per_mana_value[\"usd\"], color=\"#fca103\")\n",
    "\n",
    "# Threshold line at average uncommon card price\n",
    "ax.plot([-0.5, 8.5], [average_rare_price, average_rare_price], \"k--\")\n",
    "\n",
    "# Set x and y axes ranges\n",
    "ax.set_yticks(np.arange(0.0, 5.5, 0.5))\n",
    "ax.set_xticks(range(9))\n",
    "\n",
    "# Set table labels\n",
    "ax.set_title(\"Average Card Price per Mana Value (Rare)\")\n",
    "ax.set_xlabel(\"Mana Value\")\n",
    "ax.set_ylabel(\"Card Price (usd)\")\n",
    "\n",
    "plt.show()"
   ]
  },
  {
   "cell_type": "code",
   "execution_count": 14,
   "metadata": {},
   "outputs": [
    {
     "name": "stdout",
     "output_type": "stream",
     "text": [
      "Correlation coefficient: -0.16888\n",
      "P-value: 0.00000\n"
     ]
    }
   ],
   "source": [
    "# Calculate correlation coefficient between mana value and card price for rare cards\n",
    "rare_correlation_coefficient, rare_p_value = stats.pearsonr(rare_cards[\"usd\"], rare_cards[\"mana_value\"])\n",
    "\n",
    "# Display results\n",
    "print(f\"Correlation coefficient: {rare_correlation_coefficient:.5f}\")\n",
    "print(f\"P-value: {rare_p_value:.5f}\")"
   ]
  },
  {
   "cell_type": "code",
   "execution_count": 15,
   "metadata": {},
   "outputs": [
    {
     "name": "stdout",
     "output_type": "stream",
     "text": [
      "Average Mythic Price 5.11131845841785\n",
      "+--------------+----------+\n",
      "|   mana_value |      usd |\n",
      "|--------------+----------|\n",
      "|            0 | 15.4789  |\n",
      "|            1 |  8.80467 |\n",
      "|            2 |  5.75412 |\n",
      "|            3 |  5.33234 |\n",
      "|            4 |  4.81923 |\n",
      "|            5 |  4.26422 |\n",
      "|            6 |  3.55389 |\n",
      "|            7 |  6.14493 |\n",
      "|            8 |  7.37714 |\n",
      "+--------------+----------+\n"
     ]
    },
    {
     "data": {
      "image/png": "[encoded data removed]",
      "text/plain": [
       "<Figure size 640x480 with 1 Axes>"
      ]
     },
     "metadata": {},
     "output_type": "display_data"
    }
   ],
   "source": [
    "# Calculate average mythic card price\n",
    "average_mythic_price = mythic_cards[\"usd\"].mean()\n",
    "print(\"Average Mythic Price\", average_mythic_price)\n",
    "\n",
    "# Calculate average mythic card price per mana value\n",
    "average_mythic_price_per_mana_value = mythic_cards.groupby(\"mana_value\", as_index=False)[\"usd\"].mean()\n",
    "print(tabulate(average_mythic_price_per_mana_value, headers=\"keys\", tablefmt=\"psql\", showindex=False))\n",
    "\n",
    "# Display data with thresholded bar chart\n",
    "fig, ax = plt.subplots()\n",
    "ax.bar(average_mythic_price_per_mana_value[\"mana_value\"], average_mythic_price_per_mana_value[\"usd\"], color=\"#fc4903\")\n",
    "\n",
    "# Threshold line at average uncommon card price\n",
    "ax.plot([-0.5, 8.5], [average_mythic_price, average_mythic_price], \"k--\")\n",
    "\n",
    "# Set x and y axes ranges\n",
    "ax.set_yticks(np.arange(0.0, 17.0, 1.0))\n",
    "ax.set_xticks(range(9))\n",
    "\n",
    "# Set table labels\n",
    "ax.set_title(\"Average Card Price per Mana Value (Mythic)\")\n",
    "ax.set_xlabel(\"Mana Value\")\n",
    "ax.set_ylabel(\"Card Price (usd)\")\n",
    "\n",
    "plt.show()"
   ]
  },
  {
   "cell_type": "code",
   "execution_count": 16,
   "metadata": {},
   "outputs": [
    {
     "name": "stdout",
     "output_type": "stream",
     "text": [
      "Correlation coefficient: -0.08227\n",
      "P-value: 0.00975\n"
     ]
    }
   ],
   "source": [
    "# Calculate correlation coefficient between mana value and card price for mythic cards\n",
    "mythic_correlation_coefficient, mythic_p_value = stats.pearsonr(mythic_cards[\"usd\"], mythic_cards[\"mana_value\"])\n",
    "\n",
    "# Display results\n",
    "print(f\"Correlation coefficient: {mythic_correlation_coefficient:.5f}\")\n",
    "print(f\"P-value: {mythic_p_value:.5f}\")"
   ]
  },
  {
   "cell_type": "code",
   "execution_count": 17,
   "metadata": {},
   "outputs": [],
   "source": [
    "from scipy.stats import zscore\n",
    "\n",
    "# Calculate price Z-scores for common cards\n",
    "common_cards[\"zscore\"] = zscore(common_cards[\"usd\"])\n",
    "# Find average common price Z-score for each mana value\n",
    "common_zscore_per_mana_value = common_cards.groupby(\"mana_value\", as_index=False)[\"zscore\"].mean()\n",
    "\n",
    "# Calculate price Z-scores for uncommon cards\n",
    "uncommon_cards[\"zscore\"] = zscore(uncommon_cards[\"usd\"])\n",
    "# Find average uncommon price Z-score for each mana value\n",
    "uncommon_zscore_per_mana_value = uncommon_cards.groupby(\"mana_value\", as_index=False)[\"zscore\"].mean()\n",
    "\n",
    "# Calculate price Z-scores for rare cards\n",
    "rare_cards[\"zscore\"] = zscore(rare_cards[\"usd\"])\n",
    "# Find average rare price Z-score for each mana value\n",
    "rare_zscore_per_mana_value = rare_cards.groupby(\"mana_value\", as_index=False)[\"zscore\"].mean()\n",
    "\n",
    "# Calculate price Z-scores for mythic cards\n",
    "mythic_cards[\"zscore\"] = zscore(mythic_cards[\"usd\"])\n",
    "# Find average mythic price Z-score for each mana value\n",
    "mythic_zscore_per_mana_value = mythic_cards.groupby(\"mana_value\", as_index=False)[\"zscore\"].mean()"
   ]
  },
  {
   "cell_type": "code",
   "execution_count": 18,
   "metadata": {},
   "outputs": [
    {
     "data": {
      "text/html": [
       "<div>\n",
       "<style scoped>\n",
       "    .dataframe tbody tr th:only-of-type {\n",
       "        vertical-align: middle;\n",
       "    }\n",
       "\n",
       "    .dataframe tbody tr th {\n",
       "        vertical-align: top;\n",
       "    }\n",
       "\n",
       "    .dataframe thead th {\n",
       "        text-align: right;\n",
       "    }\n",
       "</style>\n",
       "<table border=\"1\" class=\"dataframe\">\n",
       "  <thead>\n",
       "    <tr style=\"text-align: right;\">\n",
       "      <th></th>\n",
       "      <th>mana_value</th>\n",
       "      <th>zscore</th>\n",
       "    </tr>\n",
       "  </thead>\n",
       "  <tbody>\n",
       "    <tr>\n",
       "      <th>0</th>\n",
       "      <td>0.0</td>\n",
       "      <td>0.603127</td>\n",
       "    </tr>\n",
       "    <tr>\n",
       "      <th>1</th>\n",
       "      <td>1.0</td>\n",
       "      <td>0.234431</td>\n",
       "    </tr>\n",
       "    <tr>\n",
       "      <th>2</th>\n",
       "      <td>2.0</td>\n",
       "      <td>0.058835</td>\n",
       "    </tr>\n",
       "    <tr>\n",
       "      <th>3</th>\n",
       "      <td>3.0</td>\n",
       "      <td>-0.026605</td>\n",
       "    </tr>\n",
       "    <tr>\n",
       "      <th>4</th>\n",
       "      <td>4.0</td>\n",
       "      <td>-0.085196</td>\n",
       "    </tr>\n",
       "    <tr>\n",
       "      <th>5</th>\n",
       "      <td>5.0</td>\n",
       "      <td>-0.121779</td>\n",
       "    </tr>\n",
       "    <tr>\n",
       "      <th>6</th>\n",
       "      <td>6.0</td>\n",
       "      <td>-0.141063</td>\n",
       "    </tr>\n",
       "    <tr>\n",
       "      <th>7</th>\n",
       "      <td>7.0</td>\n",
       "      <td>-0.046671</td>\n",
       "    </tr>\n",
       "    <tr>\n",
       "      <th>8</th>\n",
       "      <td>8.0</td>\n",
       "      <td>-0.036884</td>\n",
       "    </tr>\n",
       "  </tbody>\n",
       "</table>\n",
       "</div>"
      ],
      "text/plain": [
       "   mana_value    zscore\n",
       "0         0.0  0.603127\n",
       "1         1.0  0.234431\n",
       "2         2.0  0.058835\n",
       "3         3.0 -0.026605\n",
       "4         4.0 -0.085196\n",
       "5         5.0 -0.121779\n",
       "6         6.0 -0.141063\n",
       "7         7.0 -0.046671\n",
       "8         8.0 -0.036884"
      ]
     },
     "execution_count": 18,
     "metadata": {},
     "output_type": "execute_result"
    }
   ],
   "source": [
    "# Define empty dataframe with only the mana value column with values from 0 to 9\n",
    "average_zscore_per_mana_value = pd.DataFrame({\"mana_value\": np.arange(0.0, 9.0, 1.0)})\n",
    "\n",
    "# Calculate average Z-score per mana value across all rarities\n",
    "zscore_averages = []\n",
    "for i in np.arange(0.0, 9.0, 1.0):\n",
    "    zscores = []\n",
    "\n",
    "    # Append a mana value's Z-score to list for each rarity\n",
    "    zscores.append(common_zscore_per_mana_value[\"zscore\"][i])\n",
    "    zscores.append(uncommon_zscore_per_mana_value[\"zscore\"][i])\n",
    "    zscores.append(rare_zscore_per_mana_value[\"zscore\"][i])\n",
    "    zscores.append(mythic_zscore_per_mana_value[\"zscore\"][i])\n",
    "\n",
    "    # Average the list and save it to another list \n",
    "    zscore_average = sum(zscores)/len(zscores)\n",
    "    zscore_averages.append(zscore_average)\n",
    "    \n",
    "# Add total average Z-scores to a zscore column in the empty dataframe\n",
    "average_zscore_per_mana_value[\"zscore\"] = zscore_averages\n",
    "\n",
    "# Display final table\n",
    "average_zscore_per_mana_value.head(9)"
   ]
  }
 ],
 "metadata": {
  "kernelspec": {
   "display_name": "Python 3",
   "language": "python",
   "name": "python3"
  },
  "language_info": {
   "codemirror_mode": {
    "name": "ipython",
    "version": 3
   },
   "file_extension": ".py",
   "mimetype": "text/x-python",
   "name": "python",
   "nbconvert_exporter": "python",
   "pygments_lexer": "ipython3",
   "version": "3.11.9"
  }
 },
 "nbformat": 4,
 "nbformat_minor": 2
}
